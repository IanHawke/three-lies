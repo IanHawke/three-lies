{
 "cells": [
  {
   "cell_type": "markdown",
   "metadata": {
    "slideshow": {
     "slide_type": "slide"
    }
   },
   "source": [
    "# Three lies I tell when teaching Python"
   ]
  },
  {
   "cell_type": "markdown",
   "metadata": {
    "slideshow": {
     "slide_type": "slide"
    }
   },
   "source": [
    "## `import`"
   ]
  },
  {
   "cell_type": "markdown",
   "metadata": {
    "slideshow": {
     "slide_type": "fragment"
    }
   },
   "source": [
    "`import` just runs the code in the file...\n",
    "\n",
    "> All the ... operations in the imported program are performed"
   ]
  },
  {
   "cell_type": "markdown",
   "metadata": {
    "slideshow": {
     "slide_type": "fragment"
    }
   },
   "source": [
    "Pros:\n",
    "\n",
    "* Show that very complex programs built from the same, simple steps;\n",
    "* Make students get that they're doing *real* programming, immediately.\n",
    "\n",
    "Cons:\n",
    "\n",
    "* Not true;\n",
    "* Can lead to early, nasty problems"
   ]
  },
  {
   "cell_type": "code",
   "execution_count": null,
   "metadata": {
    "slideshow": {
     "slide_type": "slide"
    }
   },
   "outputs": [],
   "source": [
    "%%file truthiness.py\n",
    "\n",
    "ian_is = \"lying!\"\n",
    "print(f\"Ian is {ian_is}\")"
   ]
  },
  {
   "cell_type": "code",
   "execution_count": null,
   "metadata": {
    "slideshow": {
     "slide_type": "fragment"
    }
   },
   "outputs": [],
   "source": [
    "import truthiness"
   ]
  },
  {
   "cell_type": "code",
   "execution_count": null,
   "metadata": {
    "slideshow": {
     "slide_type": "fragment"
    }
   },
   "outputs": [],
   "source": [
    "%%file truthiness.py\n",
    "\n",
    "ian_is = \"truthing!\"\n",
    "print(f\"Ian is {ian_is}\")"
   ]
  },
  {
   "cell_type": "code",
   "execution_count": null,
   "metadata": {
    "slideshow": {
     "slide_type": "fragment"
    }
   },
   "outputs": [],
   "source": [
    "import truthiness"
   ]
  },
  {
   "cell_type": "markdown",
   "metadata": {
    "slideshow": {
     "slide_type": "slide"
    }
   },
   "source": [
    "* Python's re-import too complex for beginners.\n",
    "* Use scripts only - don't use a console - can help.\n",
    "* Using an IDE (like `spyder`) can help."
   ]
  },
  {
   "cell_type": "markdown",
   "metadata": {
    "slideshow": {
     "slide_type": "slide"
    }
   },
   "source": [
    "## Chained comparisons"
   ]
  },
  {
   "cell_type": "markdown",
   "metadata": {
    "slideshow": {
     "slide_type": "fragment"
    }
   },
   "source": [
    "Are we all happy with $0 \\le x \\le 1$?"
   ]
  },
  {
   "cell_type": "markdown",
   "metadata": {
    "slideshow": {
     "slide_type": "fragment"
    }
   },
   "source": [
    "Range inclusion like this comes up a lot: domains of functions, root-finding, placing subplots, manipulating images, ..."
   ]
  },
  {
   "cell_type": "code",
   "execution_count": null,
   "metadata": {
    "slideshow": {
     "slide_type": "slide"
    }
   },
   "outputs": [],
   "source": [
    "x = 0\n",
    "y = 100\n",
    "a = 2\n",
    "b = 52"
   ]
  },
  {
   "cell_type": "code",
   "execution_count": null,
   "metadata": {
    "slideshow": {
     "slide_type": "fragment"
    }
   },
   "outputs": [],
   "source": [
    "x < a and a < b and b < y"
   ]
  },
  {
   "cell_type": "code",
   "execution_count": null,
   "metadata": {
    "slideshow": {
     "slide_type": "fragment"
    }
   },
   "outputs": [],
   "source": [
    "x < a < b < y"
   ]
  },
  {
   "cell_type": "markdown",
   "metadata": {
    "slideshow": {
     "slide_type": "fragment"
    }
   },
   "source": [
    "Survey: how many of you would teach this?"
   ]
  },
  {
   "cell_type": "markdown",
   "metadata": {
    "slideshow": {
     "slide_type": "slide"
    }
   },
   "source": [
    "Does teaching *computing*, or *programming* matter? Or just *Python*?\n",
    "\n",
    "> *However*, many programming languages would not interpret it this way, ... . Chaining operations in this way is useful in Python, but don’t expect it to always work in other languages."
   ]
  },
  {
   "cell_type": "code",
   "execution_count": null,
   "metadata": {
    "slideshow": {
     "slide_type": "slide"
    }
   },
   "outputs": [],
   "source": [
    "a = 2\n",
    "b = 52\n",
    "c = 1.23"
   ]
  },
  {
   "cell_type": "code",
   "execution_count": null,
   "metadata": {
    "slideshow": {
     "slide_type": "fragment"
    }
   },
   "outputs": [],
   "source": [
    "type(a) == type(b) == type(c) in (float, int)"
   ]
  },
  {
   "cell_type": "markdown",
   "metadata": {
    "slideshow": {
     "slide_type": "fragment"
    }
   },
   "source": [
    "Is this a neat feature or an abomination unto Nuggan?"
   ]
  },
  {
   "cell_type": "markdown",
   "metadata": {
    "slideshow": {
     "slide_type": "slide"
    }
   },
   "source": [
    "* I think this violates the principle of least surprise.\n",
    "* Should we explicitly avoid constructs that can lead to \"ugly\" results?"
   ]
  },
  {
   "cell_type": "markdown",
   "metadata": {
    "slideshow": {
     "slide_type": "slide"
    }
   },
   "source": [
    "## Unicode"
   ]
  },
  {
   "cell_type": "markdown",
   "metadata": {
    "slideshow": {
     "slide_type": "slide"
    }
   },
   "source": [
    "Python allows (some) unicode variable names. \n",
    "\n",
    "> these tricks are not always portable between different Python versions... . To ensure that your code works as widely as possible, and that the methods you use will carry over to other programming languages, it is recommended that variables do not use any extended characters, but only the basic latin characters, numbers, and underscores."
   ]
  },
  {
   "cell_type": "markdown",
   "metadata": {
    "slideshow": {
     "slide_type": "slide"
    }
   },
   "source": [
    "# When it works\n",
    "\n",
    "Great for some problems: $r = \\alpha e^{-\\lambda t}$ gives"
   ]
  },
  {
   "cell_type": "code",
   "execution_count": null,
   "metadata": {
    "slideshow": {
     "slide_type": "fragment"
    }
   },
   "outputs": [],
   "source": [
    "from math import exp\n",
    "t = 1.2\n",
    "λ = 3.4\n",
    "α = 5.6\n",
    "r = α * exp(- λ * t)\n",
    "r"
   ]
  },
  {
   "cell_type": "markdown",
   "metadata": {
    "slideshow": {
     "slide_type": "slide"
    }
   },
   "source": [
    "# The problems\n",
    "\n",
    "> “Well, all right, last desperate million-to-one chances always work, right, no problem, but... What if it's just a thousand-to-one chance?” said Colon agonisedly. “Anyone ever heard of a thousand-to-one shot coming up?”\n",
    ">\n",
    "> Carrot looked up. “Don't be daft, Sergeant,” he said. “No-one ever saw a thousand-to-one chance come up. The odds against it are-” his lips moved- “millions to one.”\n",
    "\n",
    "*Guards! Guards!*, Terry Pratchett"
   ]
  },
  {
   "cell_type": "code",
   "execution_count": null,
   "metadata": {
    "slideshow": {
     "slide_type": "slide"
    }
   },
   "outputs": [],
   "source": [
    "import numpy\n",
    "from numpy.random import rand\n",
    "\n",
    "def colon_wins(p_colon, n_trials):\n",
    "    \"Simple Monte-Carlo with 0 instead of rand for example\"\n",
    "    return numpy.sum(numpy.zeros(n_trials) <= p_colon) / n_trials"
   ]
  },
  {
   "cell_type": "code",
   "execution_count": null,
   "metadata": {
    "slideshow": {
     "slide_type": "fragment"
    }
   },
   "outputs": [],
   "source": [
    "colon_wins(0.1, 1000000)"
   ]
  },
  {
   "cell_type": "code",
   "execution_count": null,
   "metadata": {
    "slideshow": {
     "slide_type": "fragment"
    }
   },
   "outputs": [],
   "source": [
    "def colon_wıns(p_colon, n_trials):\n",
    "    \"Simple Monte-Carlo\"\n",
    "    return numpy.sum(rand(n_trials) <= p_colon) / n_trials"
   ]
  },
  {
   "cell_type": "code",
   "execution_count": null,
   "metadata": {
    "slideshow": {
     "slide_type": "fragment"
    }
   },
   "outputs": [],
   "source": [
    "colon_wıns(0.1, 1000000)"
   ]
  },
  {
   "cell_type": "code",
   "execution_count": null,
   "metadata": {
    "slideshow": {
     "slide_type": "fragment"
    }
   },
   "outputs": [],
   "source": [
    "colon_wins(1e-6, 1000000)"
   ]
  },
  {
   "cell_type": "markdown",
   "metadata": {
    "slideshow": {
     "slide_type": "slide"
    }
   },
   "source": [
    "* Unicode is essential for generality, internationalisation, diversity, inclusion, ...\n",
    "* The tooling around unicode *variables* in particular is poor, not just in Python.\n",
    "* How can we do better?"
   ]
  },
  {
   "cell_type": "markdown",
   "metadata": {
    "slideshow": {
     "slide_type": "slide"
    }
   },
   "source": [
    "## Assumptions about notation"
   ]
  },
  {
   "cell_type": "markdown",
   "metadata": {
    "slideshow": {
     "slide_type": "slide"
    }
   },
   "source": [
    "If the group is good enough, can use features to kick-start discussions about notation. Eg\n",
    "$$\n",
    "\\begin{aligned}\n",
    "  f(x, a) &= a \\times x, \\\\\n",
    "  g(x; a) &= a \\times x, \\\\\n",
    "  h_a(x)  &= a \\times x.\n",
    "\\end{aligned}\n",
    "$$\n",
    "\n",
    "To me these are:"
   ]
  },
  {
   "cell_type": "code",
   "execution_count": null,
   "metadata": {
    "slideshow": {
     "slide_type": "fragment"
    }
   },
   "outputs": [],
   "source": [
    "def f(x, a):\n",
    "    return a * x"
   ]
  },
  {
   "cell_type": "code",
   "execution_count": null,
   "metadata": {
    "slideshow": {
     "slide_type": "fragment"
    }
   },
   "outputs": [],
   "source": [
    "from functools import partial\n",
    "g_3 = partial(f, 3)"
   ]
  },
  {
   "cell_type": "code",
   "execution_count": null,
   "metadata": {
    "slideshow": {
     "slide_type": "fragment"
    }
   },
   "outputs": [],
   "source": [
    "def h_all_a(a):\n",
    "    return lambda x : a * x\n",
    "h_3 = h_all_a(3)"
   ]
  },
  {
   "cell_type": "code",
   "execution_count": null,
   "metadata": {
    "slideshow": {
     "slide_type": "fragment"
    }
   },
   "outputs": [],
   "source": [
    "x = 1.23\n",
    "print(f(x, 3), g_3(x), h_3(x))"
   ]
  },
  {
   "cell_type": "markdown",
   "metadata": {
    "slideshow": {
     "slide_type": "slide"
    }
   },
   "source": [
    "All the results are the same: interpretation is different.\n",
    "\n",
    "* First is a function of two variables.\n",
    "* Second is a specialization of the first where $a$ is assumed constant within this context.\n",
    "* Third is saying that $a$ is always constant, but its is unspecified at definition.\n",
    "\n",
    "This can lead to deep discussions about context, typing, and assumptions embedded in notation. What set of students would you take down this rabbit hole?"
   ]
  }
 ],
 "metadata": {
  "celltoolbar": "Slideshow",
  "kernelspec": {
   "display_name": "Python 3",
   "language": "python",
   "name": "python3"
  },
  "language_info": {
   "codemirror_mode": {
    "name": "ipython",
    "version": 3
   },
   "file_extension": ".py",
   "mimetype": "text/x-python",
   "name": "python",
   "nbconvert_exporter": "python",
   "pygments_lexer": "ipython3",
   "version": "3.6.5"
  },
  "livereveal": {
   "height": 768,
   "theme": "white",
   "width": 1366
  }
 },
 "nbformat": 4,
 "nbformat_minor": 2
}
